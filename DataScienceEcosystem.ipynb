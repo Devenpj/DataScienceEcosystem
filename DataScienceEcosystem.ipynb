{
  "metadata": {
    "kernelspec": {
      "name": "python",
      "display_name": "Python (Pyodide)",
      "language": "python"
    },
    "language_info": {
      "codemirror_mode": {
        "name": "python",
        "version": 3
      },
      "file_extension": ".py",
      "mimetype": "text/x-python",
      "name": "python",
      "nbconvert_exporter": "python",
      "pygments_lexer": "ipython3",
      "version": "3.8"
    }
  },
  "nbformat_minor": 5,
  "nbformat": 4,
  "cells": [
    {
      "id": "1f594f93-29c5-4536-8cfd-858c7ead304f",
      "cell_type": "markdown",
      "source": "#  Data Science Tools and Ecosystem",
      "metadata": {}
    },
    {
      "id": "5a5f14a7-dba7-4bd8-912e-9e64bdd6429a",
      "cell_type": "markdown",
      "source": "In this notebook, Data Science Tools and Ecosystem are summarized.",
      "metadata": {}
    },
    {
      "id": "00686b92-b03d-4e08-9fa2-0092827cdf6c",
      "cell_type": "markdown",
      "source": "**Objectives:**\n\n- List popular languages for Data Science  \n- List commonly used libraries by Data Scientists  \n- Create tables for Data Science tools  \n- Demonstrate basic arithmetic expressions in Python  \n- Share Jupyter Notebook through GitHub\n",
      "metadata": {}
    },
    {
      "id": "e53448e5-600f-42c2-99c8-2a3e3116e80e",
      "cell_type": "markdown",
      "source": "Some of the popular languages that Data Scientists use are:",
      "metadata": {}
    },
    {
      "id": "15eccf25-748b-4dab-a0f2-6c96adefbf84",
      "cell_type": "markdown",
      "source": "1. Python  \n2. R  \n3. SQL  \n4. Julia  \n5. Scala",
      "metadata": {}
    },
    {
      "id": "c9db173a-7608-4b24-93a8-85bb41ba2b5c",
      "cell_type": "markdown",
      "source": "Some of the commonly used libraries used by Data Scientists include:\n\n1. Pandas  \n2. NumPy  \n3. Matplotlib  \n4. Scikit-learn  \n5. TensorFlow\n",
      "metadata": {}
    },
    {
      "id": "2da4f148-5bcb-4f1f-b63a-d0d5b6524a1a",
      "cell_type": "markdown",
      "source": "| Data Science Tools |\n|---------------------|\n| Jupyter Notebook |\n| RStudio |\n| Apache Zeppelin |\n",
      "metadata": {}
    },
    {
      "id": "60f42240-ac1e-4771-9fe9-47b90e1248aa",
      "cell_type": "markdown",
      "source": "### Below are a few examples of evaluating arithmetic expressions in Python.\n",
      "metadata": {}
    },
    {
      "id": "78671f57-d700-49d9-8da8-057250dd0078",
      "cell_type": "code",
      "source": "# This is a simple arithmetic expression to multiply then add integers\n(3 * 4) + 5\n",
      "metadata": {
        "trusted": true
      },
      "outputs": [
        {
          "execution_count": 2,
          "output_type": "execute_result",
          "data": {
            "text/plain": "17"
          },
          "metadata": {}
        }
      ],
      "execution_count": 2
    },
    {
      "id": "8fa2d23b-cf41-490d-9d98-7a00ee45bca5",
      "cell_type": "code",
      "source": "# This will convert 200 minutes to hours by dividing by 60\n200 / 60\n",
      "metadata": {
        "trusted": true
      },
      "outputs": [
        {
          "execution_count": 3,
          "output_type": "execute_result",
          "data": {
            "text/plain": "3.3333333333333335"
          },
          "metadata": {}
        }
      ],
      "execution_count": 3
    },
    {
      "id": "6a64f223-4652-4d09-9913-7efa8fbbea46",
      "cell_type": "markdown",
      "source": "## Author\nDevendra Prajapat\n",
      "metadata": {}
    },
    {
      "id": "c85f2f36-2aad-4f78-9edd-309f1c3d159e",
      "cell_type": "code",
      "source": "",
      "metadata": {
        "trusted": true
      },
      "outputs": [],
      "execution_count": null
    }
  ]
}